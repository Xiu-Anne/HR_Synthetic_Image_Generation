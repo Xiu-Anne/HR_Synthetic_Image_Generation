{
  "nbformat": 4,
  "nbformat_minor": 0,
  "metadata": {
    "colab": {
      "name": "GAN_Pytorch_N.ipynb",
      "provenance": [],
      "collapsed_sections": []
    },
    "kernelspec": {
      "name": "python3",
      "display_name": "Python 3"
    },
    "language_info": {
      "name": "python"
    },
    "accelerator": "GPU"
  },
  "cells": [
    {
      "cell_type": "code",
      "metadata": {
        "id": "GdSAvDGyRC_C"
      },
      "source": [
        "import argparse\n",
        "import os\n",
        "import numpy as np\n",
        "import math\n",
        "import glob\n",
        "\n",
        "import torchvision.transforms as transforms\n",
        "from torchvision.utils import save_image\n",
        "\n",
        "from torch.utils.data import DataLoader, Dataset\n",
        "from torchvision import datasets\n",
        "from torch.autograd import Variable\n",
        "\n",
        "import torch.nn as nn\n",
        "import torch.nn.functional as F\n",
        "import torch\n",
        "\n",
        "from PIL import Image\n",
        "from sklearn.model_selection import train_test_split\n",
        "from tqdm import tqdm_notebook as tqdm"
      ],
      "execution_count": 1,
      "outputs": []
    },
    {
      "cell_type": "code",
      "metadata": {
        "colab": {
          "base_uri": "https://localhost:8080/"
        },
        "id": "5U7xRe-31Gvr",
        "outputId": "0c968c4a-381c-4a34-eeb1-da9536e518c6"
      },
      "source": [
        "from google.colab import drive\n",
        "drive.mount('/content/drive')"
      ],
      "execution_count": 2,
      "outputs": [
        {
          "output_type": "stream",
          "text": [
            "Mounted at /content/drive\n"
          ],
          "name": "stdout"
        }
      ]
    },
    {
      "cell_type": "code",
      "metadata": {
        "colab": {
          "base_uri": "https://localhost:8080/"
        },
        "id": "XEi2iMTk1im0",
        "outputId": "b21211e1-fe11-4a2c-9d72-f8dcbc6dc5f0"
      },
      "source": [
        "os.chdir('/content/drive/MyDrive/Machine_Learning/GAN/div2k/data/') #/\n",
        "!pwd\n",
        "%ls"
      ],
      "execution_count": 3,
      "outputs": [
        {
          "output_type": "stream",
          "text": [
            "/content/drive/MyDrive/Machine_Learning/GAN/div2k/data\n",
            "DiffAugment_pytorch.py  \u001b[0m\u001b[01;34mDIV2K_train_HR\u001b[0m/  \u001b[01;34mimages\u001b[0m/  \u001b[01;34m__pycache__\u001b[0m/  \u001b[01;34msaved_models\u001b[0m/\n"
          ],
          "name": "stdout"
        }
      ]
    },
    {
      "cell_type": "code",
      "metadata": {
        "colab": {
          "base_uri": "https://localhost:8080/"
        },
        "id": "UiNf1sj2OJel",
        "outputId": "354eaee4-8ab4-4aea-ea52-0a4341ecc422"
      },
      "source": [
        "import sys\n",
        "sys.argv=['']\n",
        "del sys\n",
        "\n",
        "DEVICE = torch.device(\"cuda\" if torch.cuda.is_available() else \"cpu\")\n",
        "\n",
        "parser = argparse.ArgumentParser()\n",
        "parser.add_argument(\"--n_epochs\", type=int, default=5000, help=\"number of epochs of training\")\n",
        "parser.add_argument(\"--batch_size\", type=int, default=64, help=\"size of the batches\")\n",
        "parser.add_argument(\"--lr\", type=float, default=0.00005, help=\"adam: learning rate\")\n",
        "parser.add_argument(\"--b1\", type=float, default=0.5, help=\"adam: decay of first order momentum of gradient\")\n",
        "parser.add_argument(\"--b2\", type=float, default=0.999, help=\"adam: decay of first order momentum of gradient\")\n",
        "parser.add_argument(\"--n_cpu\", type=int, default=1, help=\"number of cpu threads to use during batch generation\")\n",
        "parser.add_argument(\"--latent_dim\", type=int, default=1000, help=\"dimensionality of the latent space\")\n",
        "parser.add_argument(\"--img_size\", type=int, default=128, help=\"size of each image dimension\")\n",
        "parser.add_argument(\"--channels\", type=int, default=3, help=\"number of image channels\")\n",
        "parser.add_argument(\"--sample_interval\", type=int, default=30, help=\"interval betwen image samples\")\n",
        "opt = parser.parse_args()\n",
        "print(opt)\n",
        "\n",
        "img_shape = (opt.channels, opt.img_size, opt.img_size)\n",
        "\n",
        "cuda = True if torch.cuda.is_available() else False"
      ],
      "execution_count": 4,
      "outputs": [
        {
          "output_type": "stream",
          "text": [
            "Namespace(b1=0.5, b2=0.999, batch_size=64, channels=3, img_size=128, latent_dim=1000, lr=5e-05, n_cpu=1, n_epochs=0, sample_interval=30)\n"
          ],
          "name": "stdout"
        }
      ]
    },
    {
      "cell_type": "code",
      "metadata": {
        "colab": {
          "base_uri": "https://localhost:8080/"
        },
        "id": "Z6f7RzzZvdfk",
        "outputId": "e44959e9-b5bf-40c6-c422-04a448dee759"
      },
      "source": [
        "# Normalization parameters for pre-trained PyTorch models\n",
        "#mean = np.array([0.485, 0.456, 0.406])\n",
        "#std = np.array([0.229, 0.224, 0.225])\n",
        "\n",
        "class ImageDataset(Dataset):\n",
        "    def __init__(self, files, lr_shape):\n",
        "        lr_height, lr_width = lr_shape\n",
        "        # Transforms for low resolution images and high resolution images\n",
        "        self.lr_transform = transforms.Compose(\n",
        "            [\n",
        "                transforms.Resize((lr_height, lr_height), Image.BICUBIC),\n",
        "                transforms.ToTensor(),\n",
        "                #transforms.Normalize(mean, std),\n",
        "            ]\n",
        "        )\n",
        "        self.files = files\n",
        "    \n",
        "    def __getitem__(self, index):\n",
        "        img = Image.open(self.files[index % len(self.files)])\n",
        "        img_lr = self.lr_transform(img)\n",
        "        return {\"lr\": img_lr}\n",
        "\n",
        "    def __len__(self):\n",
        "        return len(self.files)\n",
        "\n",
        "# Configure data loader\n",
        "dataset_path = \"DIV2K_train_HR\"\n",
        "lr_shape=(opt.img_size, opt.img_size)\n",
        "train_paths, test_paths = train_test_split(sorted(glob.glob(dataset_path + \"/*.*\")), test_size=0.2)\n",
        "dataloader = DataLoader(ImageDataset(train_paths, lr_shape=lr_shape), batch_size=opt.batch_size, shuffle=True, num_workers=opt.n_cpu, drop_last=True)"
      ],
      "execution_count": 5,
      "outputs": [
        {
          "output_type": "stream",
          "text": [
            "/usr/local/lib/python3.7/dist-packages/torchvision/transforms/transforms.py:281: UserWarning: Argument interpolation should be of type InterpolationMode instead of int. Please, use InterpolationMode enum.\n",
            "  \"Argument interpolation should be of type InterpolationMode instead of int. \"\n"
          ],
          "name": "stderr"
        }
      ]
    },
    {
      "cell_type": "code",
      "metadata": {
        "id": "4ZgKol1B8mQ-"
      },
      "source": [
        "class Generator(nn.Module):\n",
        "    def __init__(self, out_channels=1):\n",
        "        super(Generator, self).__init__()\n",
        "        self.main = nn.Sequential(\n",
        "            # input is Z, going into a convolution\n",
        "            nn.ConvTranspose2d(opt.latent_dim, 64, 4, 1, 0),#, bias=False\n",
        "            #nn.BatchNorm2d(64*16),\n",
        "            nn.ReLU(True),\n",
        "            # state size. 64*16 x 4 x 4\n",
        "            nn.ConvTranspose2d(64, 64, 4, 2, 1),\n",
        "            #nn.BatchNorm2d(64*8),\n",
        "            nn.ReLU(True),\n",
        "            # state size. 64*8 x 8 x 8\n",
        "            nn.ConvTranspose2d(64, 64, 4, 2, 1, ),\n",
        "            #nn.BatchNorm2d(64*4),\n",
        "            #nn.Dropout(0.2),\n",
        "            nn.ReLU(True),\n",
        "            # state size. 64*4 x 16 x 16\n",
        "            nn.ConvTranspose2d(64, 64, 4, 2, 1, ),\n",
        "            #nn.BatchNorm2d(64*2),\n",
        "            #nn.Dropout(0.2),\n",
        "            nn.ReLU(True),\n",
        "            # state size. 64*2 x 32 x 32\n",
        "            nn.ConvTranspose2d(64, 64, 4, 2, 1, ),\n",
        "            #nn.BatchNorm2d(64),\n",
        "            #nn.Dropout(0.2),\n",
        "            nn.ReLU(True),\n",
        "            #self attention\n",
        "            #Self_Attn(64),\n",
        "            # state size. 64 x 64 x 64            \n",
        "            nn.ConvTranspose2d(64, opt.channels, 4, 2, 1, ),\n",
        "            nn.Tanh()\n",
        "            # state size. (nc) x 128 x 128\n",
        "        )\n",
        "\n",
        "    def forward(self, input):\n",
        "        return self.main(input)"
      ],
      "execution_count": 6,
      "outputs": []
    },
    {
      "cell_type": "code",
      "metadata": {
        "id": "-qx2OCZz-oRV"
      },
      "source": [
        "class Discriminator(nn.Module):\n",
        "    def __init__(self, out_channels=1):\n",
        "        super(Discriminator, self).__init__()\n",
        "        self.main = nn.Sequential(\n",
        "            # input is (out_channels) x 128 x 128\n",
        "            nn.Conv2d(opt.channels, 64, 4, 2, 1, ),\n",
        "            #nn.BatchNorm2d(64),\n",
        "            nn.LeakyReLU(0.2, inplace=True),\n",
        "            # state size. (64) x 64 x 64\n",
        "            nn.Conv2d(64, 64, 4, 2, 1, ),\n",
        "            #nn.BatchNorm2d(64),#*2\n",
        "            #nn.Dropout(0.2),\n",
        "            nn.LeakyReLU(0.2, inplace=True),\n",
        "            # state size. 64*4 x 32 x 32\n",
        "            nn.Conv2d(64, 64, 4, 2, 1, ),\n",
        "            #nn.BatchNorm2d(64),#*4\n",
        "            #nn.Dropout(0.2),\n",
        "            nn.LeakyReLU(0.2, inplace=True),\n",
        "            # state size. 64*8 x 16 x 15\n",
        "            nn.Conv2d(64, 64, 4, 2, 1, ),\n",
        "            #nn.BatchNorm2d(64),#*8\n",
        "            #nn.Dropout(0.2),\n",
        "            nn.LeakyReLU(0.2, inplace=True),            \n",
        "            # state size. 64*16 x 8 x 8\n",
        "            nn.Conv2d(64, 64, 4, 2, 1, ),\n",
        "            #nn.BatchNorm2d(64),#*16\n",
        "            #nn.Dropout(0.2),\n",
        "            nn.LeakyReLU(0.2, inplace=True),\n",
        "            #self attention\n",
        "            #Self_Attn(64),\n",
        "            # state size. 64*16 x 4 x 4\n",
        "            nn.Conv2d(64, 1, 4, 1, 0, ),\n",
        "            #nn.Dropout(0.2),\n",
        "            nn.Flatten(),\n",
        "            nn.Sigmoid()\n",
        "        )\n",
        "\n",
        "    def forward(self, input):\n",
        "        crit_pred = self.main(input)\n",
        "        return crit_pred.view(len(crit_pred), -1)"
      ],
      "execution_count": 7,
      "outputs": []
    },
    {
      "cell_type": "code",
      "metadata": {
        "id": "5KRLcWvUB3Un",
        "colab": {
          "base_uri": "https://localhost:8080/"
        },
        "outputId": "496e7798-3139-4d99-80f9-f3931b8d70b9"
      },
      "source": [
        "# Initialize generator and discriminator\n",
        "from torchsummary import summary\n",
        "generator = Generator()\n",
        "discriminator = Discriminator()\n",
        "\n",
        "# Loss function\n",
        "adversarial_loss = torch.nn.BCELoss() #BCEWithLogitsLoss()#\n",
        "\n",
        "if cuda:\n",
        "    generator.cuda()\n",
        "    discriminator.cuda()\n",
        "    adversarial_loss.cuda()\n",
        "\n",
        "summary(generator, (opt.latent_dim,1,1))\n",
        "summary(discriminator, (opt.channels,128,128))\n",
        "\n",
        "# Load pretrained models\n",
        "load_pretrained_models = True\n",
        "generator_path = \"saved_models/generator.pth\"\n",
        "discriminator_path = \"saved_models/discriminator.pth\"\n",
        "if load_pretrained_models:\n",
        "    generator.load_state_dict(torch.load(generator_path,map_location=DEVICE))#map_location=torch.device('cpu')\n",
        "    discriminator.load_state_dict(torch.load(discriminator_path,map_location=DEVICE))#CPU only\n",
        "\n",
        "# Optimizers\n",
        "optimizer_G = torch.optim.Adam(generator.parameters(), lr=opt.lr, betas=(opt.b1, opt.b2))\n",
        "optimizer_D = torch.optim.Adam(discriminator.parameters(), lr=opt.lr, betas=(opt.b1, opt.b2))\n",
        "\n",
        "Tensor = torch.cuda.FloatTensor if cuda else torch.FloatTensor"
      ],
      "execution_count": 8,
      "outputs": [
        {
          "output_type": "stream",
          "text": [
            "----------------------------------------------------------------\n",
            "        Layer (type)               Output Shape         Param #\n",
            "================================================================\n",
            "   ConvTranspose2d-1             [-1, 64, 4, 4]       1,024,064\n",
            "              ReLU-2             [-1, 64, 4, 4]               0\n",
            "   ConvTranspose2d-3             [-1, 64, 8, 8]          65,600\n",
            "              ReLU-4             [-1, 64, 8, 8]               0\n",
            "   ConvTranspose2d-5           [-1, 64, 16, 16]          65,600\n",
            "              ReLU-6           [-1, 64, 16, 16]               0\n",
            "   ConvTranspose2d-7           [-1, 64, 32, 32]          65,600\n",
            "              ReLU-8           [-1, 64, 32, 32]               0\n",
            "   ConvTranspose2d-9           [-1, 64, 64, 64]          65,600\n",
            "             ReLU-10           [-1, 64, 64, 64]               0\n",
            "  ConvTranspose2d-11          [-1, 3, 128, 128]           3,075\n",
            "             Tanh-12          [-1, 3, 128, 128]               0\n",
            "================================================================\n",
            "Total params: 1,289,539\n",
            "Trainable params: 1,289,539\n",
            "Non-trainable params: 0\n",
            "----------------------------------------------------------------\n",
            "Input size (MB): 0.00\n",
            "Forward/backward pass size (MB): 6.08\n",
            "Params size (MB): 4.92\n",
            "Estimated Total Size (MB): 11.00\n",
            "----------------------------------------------------------------\n",
            "----------------------------------------------------------------\n",
            "        Layer (type)               Output Shape         Param #\n",
            "================================================================\n",
            "            Conv2d-1           [-1, 64, 64, 64]           3,136\n",
            "         LeakyReLU-2           [-1, 64, 64, 64]               0\n",
            "            Conv2d-3           [-1, 64, 32, 32]          65,600\n",
            "         LeakyReLU-4           [-1, 64, 32, 32]               0\n",
            "            Conv2d-5           [-1, 64, 16, 16]          65,600\n",
            "         LeakyReLU-6           [-1, 64, 16, 16]               0\n",
            "            Conv2d-7             [-1, 64, 8, 8]          65,600\n",
            "         LeakyReLU-8             [-1, 64, 8, 8]               0\n",
            "            Conv2d-9             [-1, 64, 4, 4]          65,600\n",
            "        LeakyReLU-10             [-1, 64, 4, 4]               0\n",
            "           Conv2d-11              [-1, 1, 1, 1]           1,025\n",
            "          Flatten-12                    [-1, 1]               0\n",
            "          Sigmoid-13                    [-1, 1]               0\n",
            "================================================================\n",
            "Total params: 266,561\n",
            "Trainable params: 266,561\n",
            "Non-trainable params: 0\n",
            "----------------------------------------------------------------\n",
            "Input size (MB): 0.19\n",
            "Forward/backward pass size (MB): 5.33\n",
            "Params size (MB): 1.02\n",
            "Estimated Total Size (MB): 6.53\n",
            "----------------------------------------------------------------\n"
          ],
          "name": "stdout"
        }
      ]
    },
    {
      "cell_type": "code",
      "metadata": {
        "id": "NI3ByZ4Bgb2h"
      },
      "source": [
        "# ----------\n",
        "#  Training\n",
        "# ----------\n",
        "\n",
        "#https://github.com/mit-han-lab/data-efficient-gans-dynamic\n",
        "from DiffAugment_pytorch import DiffAugment\n",
        "policy = 'color,translation,cutout'#\n",
        "\n",
        "for epoch in range(opt.n_epochs):\n",
        "\n",
        "    #tqdm_bar = tqdm(dataloader, desc=f'Training Epoch {epoch} ', total=int(len(dataloader)))\n",
        "    for i, imgs in enumerate(dataloader):\n",
        "\n",
        "        # Configure model input\n",
        "        real_imgs = Variable(imgs[\"lr\"].type(Tensor))\n",
        "        # Adversarial ground truths\n",
        "        valid = Variable(Tensor(np.ones((real_imgs.size(0), 1))), requires_grad=False)\n",
        "        fake = Variable(Tensor(np.zeros((real_imgs.size(0), 1))), requires_grad=False)\n",
        "\n",
        "        # ---------------------\n",
        "        #  Train Discriminator\n",
        "        # ---------------------\n",
        "\n",
        "        # Sample noise as generator input\n",
        "        z = Variable(torch.randn(opt.batch_size,opt.latent_dim, 1, 1, device=DEVICE))#\n",
        "        # Generate a batch of images\n",
        "        gen_imgs = generator(z)\n",
        "\n",
        "        optimizer_D.zero_grad()\n",
        "\n",
        "        # Measure discriminator's ability to classify real from generated samples\n",
        "        real_loss = adversarial_loss(discriminator(DiffAugment(real_imgs, policy=policy)), valid)\n",
        "        fake_loss = adversarial_loss(discriminator(DiffAugment(gen_imgs, policy=policy).detach()), fake)\n",
        "        d_loss = (real_loss + fake_loss) #/ 2\n",
        "\n",
        "        d_loss.backward()\n",
        "        optimizer_D.step()\n",
        "\n",
        "        # -----------------\n",
        "        #  Train Generator\n",
        "        # -----------------\n",
        "\n",
        "        optimizer_G.zero_grad()\n",
        "\n",
        "        z_2 = Variable(torch.randn(opt.batch_size,opt.latent_dim, 1, 1, device=DEVICE))#\n",
        "        # Generate a batch of images\n",
        "        gen_imgs_2 = generator(z_2)\n",
        "\n",
        "        # Loss measures generator's ability to fool the discriminator\n",
        "        g_loss = adversarial_loss(discriminator(DiffAugment(gen_imgs_2, policy=policy)), valid)\n",
        "\n",
        "        g_loss.backward()\n",
        "        optimizer_G.step()\n",
        "\n",
        "\n",
        "        if epoch % 10 == 0:\n",
        "            print(\n",
        "                \"[Epoch %d/%d] [Batch %d/%d] [D loss: %f] [G loss: %f]\"\n",
        "                % (epoch, opt.n_epochs, i, len(dataloader), d_loss.item(), g_loss.item())\n",
        "            )\n",
        "\n",
        "        #batches_done = epoch * len(dataloader) + i\n",
        "        if epoch % opt.sample_interval == 0:\n",
        "            save_image(gen_imgs.data[:9], \"images/%d.png\" % epoch, nrow=3, normalize=True)\n",
        "\n",
        "        # Save model checkpoints\n",
        "        if (epoch+1)%1000 == 0:\n",
        "            torch.save(generator.state_dict(), \"saved_models/generator.pth\")\n",
        "            torch.save(discriminator.state_dict(), \"saved_models/discriminator.pth\")\n",
        "\n",
        "#torch.save(generator.state_dict(), \"saved_models/generator.pth\")\n",
        "#torch.save(discriminator.state_dict(), \"saved_models/discriminator.pth\")"
      ],
      "execution_count": 9,
      "outputs": []
    },
    {
      "cell_type": "code",
      "metadata": {
        "id": "r4VTMBObmD2l"
      },
      "source": [
        "import matplotlib.pyplot as plt\n",
        "from torchvision.utils import make_grid\n",
        "\n",
        "z = Variable(torch.randn(opt.batch_size,opt.latent_dim, 1, 1, device=DEVICE))\n",
        "gen_imgs = generator(z)\n",
        "\n",
        "grid_img = make_grid(gen_imgs.data.cpu()[:9], nrow=3)\n",
        "plt.figure(figsize = (20,20))\n",
        "plt.imshow(grid_img.permute(1, 2, 0), cmap='gray')"
      ],
      "execution_count": 11,
      "outputs": []
    },
    {
      "cell_type": "code",
      "metadata": {
        "id": "b4GjUtL_gdQx"
      },
      "source": [
        "#https://towardsdatascience.com/building-your-own-self-attention-gans-e8c9b9fe8e51\n",
        "class Self_Attn(nn.Module):\n",
        "    \"\"\" Self attention Layer\"\"\"\n",
        "    def __init__(self, in_dim):\n",
        "        super().__init__()\n",
        "        \n",
        "        # Construct the conv layers\n",
        "        self.query_conv = nn.Conv2d(in_channels = in_dim , out_channels = in_dim//2 , kernel_size= 1)#//2\n",
        "        self.key_conv = nn.Conv2d(in_channels = in_dim , out_channels = in_dim//2 , kernel_size= 1)\n",
        "        self.value_conv = nn.Conv2d(in_channels = in_dim , out_channels = in_dim , kernel_size= 1)\n",
        "        \n",
        "        # Initialize gamma as 0\n",
        "        self.gamma = nn.Parameter(torch.zeros(1))\n",
        "        self.softmax  = nn.Softmax(dim=-1)\n",
        "        \n",
        "    def forward(self,x):\n",
        "        \"\"\"\n",
        "            inputs :\n",
        "                x : input feature maps( B * C * W * H)\n",
        "            returns :\n",
        "                out : self attention value + input feature \n",
        "                attention: B * N * N (N is Width*Height)\n",
        "        \"\"\"\n",
        "        m_batchsize,C,width ,height = x.size()\n",
        "        \n",
        "        proj_query  = self.query_conv(x).view(m_batchsize, -1, width*height).permute(0,2,1) # B * N * C\n",
        "        proj_key =  self.key_conv(x).view(m_batchsize, -1, width*height) # B * C * N\n",
        "        energy =  torch.bmm(proj_query, proj_key) # batch matrix-matrix product\n",
        "        \n",
        "        attention = self.softmax(energy) # B * N * N\n",
        "        proj_value = self.value_conv(x).view(m_batchsize, -1, width*height) # B * C * N\n",
        "        out = torch.bmm(proj_value, attention.permute(0,2,1)) # batch matrix-matrix product\n",
        "        out = out.view(m_batchsize,C,width,height) # B * C * W * H\n",
        "        \n",
        "        # Add attention weights onto input\n",
        "        out = self.gamma*out + x\n",
        "        return out#, attention"
      ],
      "execution_count": 11,
      "outputs": []
    },
    {
      "cell_type": "code",
      "metadata": {
        "id": "zoFUKPy6mCA2"
      },
      "source": [
        ""
      ],
      "execution_count": 11,
      "outputs": []
    }
  ]
}